{
 "cells": [
  {
   "cell_type": "code",
   "execution_count": null,
   "id": "ecfebf2d",
   "metadata": {},
   "outputs": [],
   "source": [
    "!pip install geopandas\n"
   ]
  },
  {
   "cell_type": "code",
   "execution_count": null,
   "id": "da5e85e8",
   "metadata": {},
   "outputs": [],
   "source": [
    "pip list"
   ]
  },
  {
   "cell_type": "code",
   "execution_count": 85,
   "id": "a6cdb5ca",
   "metadata": {},
   "outputs": [],
   "source": [
    "import pandas as pd\n",
    "import arcpy\n",
    "from arcpy import env\n",
    "import geopandas as gpd\n",
    "import os\n",
    "import csv\n",
    "import multiprocessing"
   ]
  },
  {
   "cell_type": "code",
   "execution_count": null,
   "id": "38b5214b",
   "metadata": {},
   "outputs": [],
   "source": [
    "# Set the current workspace \n",
    "folder_path = \"G:/usgrids2020/for_join_data/\"\n",
    "gdb_path = r\"G:/usgrids2020/gdbs/\"\n",
    "gdb_list = os.listdir(gdb_path)\n",
    "gdb_list.sort()\n",
    "for state_gdb in gdb_list[2:]:\n",
    "    env.workspace = os.path.join(gdb_path, state_gdb)\n",
    "    env.overwriteOutput = True\n",
    "    print(env.workspace)\n",
    "    # feature class\n",
    "    # Set the local parameters\n",
    "    joinTable = os.path.join(folder_path, f\"{state_gdb[3:5]}_inputs.csv\")\n",
    "    print(joinTable)\n",
    "    # create in memory path\n",
    "    memory = 'in_memory/'\n",
    "    mem_table_path = os.path.join(memory, 'csv')\n",
    "\n",
    "    #create the in memory table\n",
    "    arcpy.CopyRows_management(joinTable, mem_table_path)  \n",
    "    #Add join from inputs.csv to feature in gdb \n",
    "    joined_table = arcpy.management.AddJoin(\n",
    "        in_layer_or_view=f\"usa{state_gdb[3:5]}_admin5_boundaries\",\n",
    "        in_field=\"GEOID20\",\n",
    "        join_table=joinTable,\n",
    "        join_field=\"GEOID20\",\n",
    "        join_type=\"KEEP_ALL\",\n",
    "        index_join_fields=\"NO_INDEX_JOIN_FIELDS\",\n",
    "        rebuild_index=\"NO_REBUILD_INDEX\"\n",
    "    )\n",
    "\n",
    "    arcpy.management.CopyFeatures(joined_table, \"joinedtable\")\n",
    "    print(\"Done!\")\n",
    "    # Join two feature classes by the zonecode field and only carry \n",
    "    # over the land use and land cover fields\n",
    "    # arcpy.management.JoinField(fc, joinField, mem_table_path, joinField)"
   ]
  },
  {
   "cell_type": "code",
   "execution_count": null,
   "id": "5d31753e",
   "metadata": {},
   "outputs": [],
   "source": [
    "# from arcpy import env\n",
    "# env.overwriteOutput = True\n",
    "# out_path = 'G:/usgrids2020'\n",
    "\n",
    "# arcpy.management.CreateFileGDB(out_path,\"processed_data.gdb\")\n",
    "\n",
    "# env.workspace = bounds\n",
    "# in_rows = \"G:/usgrids2020/processed_census_data/delaware_us_final.csv\"\n",
    "# arcpy.conversion.TableToTable(in_rows, state_gdb,\"delaware\")\n"
   ]
  },
  {
   "cell_type": "code",
   "execution_count": 96,
   "id": "619645b8",
   "metadata": {},
   "outputs": [
    {
     "name": "stdout",
     "output_type": "stream",
     "text": [
      "Processing for G:/usgrids2020/test_gdb/usaak.gdb\\usaak_admin5_boundaries\n",
      "None\n",
      "Script Complete in 0:00:24.335508\n",
      "Processing for G:/usgrids2020/test_gdb/usaal.gdb\\usaal_admin5_boundaries\n"
     ]
    },
    {
     "ename": "KeyboardInterrupt",
     "evalue": "",
     "output_type": "error",
     "traceback": [
      "\u001b[1;31m---------------------------------------------------------------------------\u001b[0m",
      "\u001b[1;31mKeyboardInterrupt\u001b[0m                         Traceback (most recent call last)",
      "\u001b[1;32m~\\AppData\\Local\\Temp\\3\\ipykernel_20508\\1745540365.py\u001b[0m in \u001b[0;36m<cell line: 84>\u001b[1;34m()\u001b[0m\n\u001b[0;32m     83\u001b[0m \u001b[1;33m\u001b[0m\u001b[0m\n\u001b[0;32m     84\u001b[0m \u001b[1;32mif\u001b[0m \u001b[0m__name__\u001b[0m \u001b[1;33m==\u001b[0m \u001b[1;34m\"__main__\"\u001b[0m\u001b[1;33m:\u001b[0m\u001b[1;33m\u001b[0m\u001b[1;33m\u001b[0m\u001b[0m\n\u001b[1;32m---> 85\u001b[1;33m     \u001b[0mmain\u001b[0m\u001b[1;33m(\u001b[0m\u001b[1;33m)\u001b[0m\u001b[1;33m\u001b[0m\u001b[1;33m\u001b[0m\u001b[0m\n\u001b[0m",
      "\u001b[1;32m~\\AppData\\Local\\Temp\\3\\ipykernel_20508\\1745540365.py\u001b[0m in \u001b[0;36mmain\u001b[1;34m()\u001b[0m\n\u001b[0;32m     69\u001b[0m     \u001b[1;32mfor\u001b[0m \u001b[0mp\u001b[0m \u001b[1;32min\u001b[0m \u001b[0mprocList\u001b[0m\u001b[1;33m:\u001b[0m\u001b[1;33m\u001b[0m\u001b[1;33m\u001b[0m\u001b[0m\n\u001b[0;32m     70\u001b[0m         \u001b[0mprint\u001b[0m\u001b[1;33m(\u001b[0m\u001b[1;34mf\"Processing for {p}\"\u001b[0m\u001b[1;33m)\u001b[0m\u001b[1;33m\u001b[0m\u001b[1;33m\u001b[0m\u001b[0m\n\u001b[1;32m---> 71\u001b[1;33m         \u001b[0mprint\u001b[0m\u001b[1;33m(\u001b[0m\u001b[0mprocess\u001b[0m\u001b[1;33m(\u001b[0m\u001b[0mp\u001b[0m\u001b[1;33m)\u001b[0m\u001b[1;33m)\u001b[0m\u001b[1;33m\u001b[0m\u001b[1;33m\u001b[0m\u001b[0m\n\u001b[0m\u001b[0;32m     72\u001b[0m         \u001b[0mprint\u001b[0m\u001b[1;33m(\u001b[0m\u001b[1;34mf\"Script Complete in {str(datetime.datetime.now()- readTime)}\"\u001b[0m\u001b[1;33m)\u001b[0m\u001b[1;33m\u001b[0m\u001b[1;33m\u001b[0m\u001b[0m\n\u001b[0;32m     73\u001b[0m \u001b[1;31m# this is for multicore processing\u001b[0m\u001b[1;33m\u001b[0m\u001b[1;33m\u001b[0m\u001b[0m\n",
      "\u001b[1;32m~\\AppData\\Local\\Temp\\3\\ipykernel_20508\\1745540365.py\u001b[0m in \u001b[0;36mprocess\u001b[1;34m(fc)\u001b[0m\n\u001b[0;32m     48\u001b[0m         \u001b[1;32mreturn\u001b[0m \u001b[1;33m(\u001b[0m\u001b[1;33m(\u001b[0m\u001b[1;36m0\u001b[0m\u001b[1;33m,\u001b[0m\u001b[1;34m\"CSVDICT ERROR\"\u001b[0m\u001b[1;33m)\u001b[0m\u001b[1;33m)\u001b[0m\u001b[1;33m\u001b[0m\u001b[1;33m\u001b[0m\u001b[0m\n\u001b[0;32m     49\u001b[0m     \u001b[0mfcInMem\u001b[0m \u001b[1;33m=\u001b[0m \u001b[1;34m\"in_memory/test\"\u001b[0m\u001b[1;33m\u001b[0m\u001b[1;33m\u001b[0m\u001b[0m\n\u001b[1;32m---> 50\u001b[1;33m     \u001b[0marcpy\u001b[0m\u001b[1;33m.\u001b[0m\u001b[0mmanagement\u001b[0m\u001b[1;33m.\u001b[0m\u001b[0mCopyFeatures\u001b[0m\u001b[1;33m(\u001b[0m\u001b[0mfc\u001b[0m\u001b[1;33m,\u001b[0m \u001b[0mfcInMem\u001b[0m\u001b[1;33m)\u001b[0m\u001b[1;33m\u001b[0m\u001b[1;33m\u001b[0m\u001b[0m\n\u001b[0m\u001b[0;32m     51\u001b[0m     \u001b[0marcpy\u001b[0m\u001b[1;33m.\u001b[0m\u001b[0mconversion\u001b[0m\u001b[1;33m.\u001b[0m\u001b[0mTableToTable\u001b[0m\u001b[1;33m(\u001b[0m\u001b[0mcsvFile\u001b[0m\u001b[1;33m,\u001b[0m \u001b[1;34m\"in_memory\"\u001b[0m\u001b[1;33m,\u001b[0m \u001b[1;34m\"tableInMem\"\u001b[0m\u001b[1;33m)\u001b[0m\u001b[1;33m\u001b[0m\u001b[1;33m\u001b[0m\u001b[0m\n\u001b[0;32m     52\u001b[0m     \u001b[0marcpy\u001b[0m\u001b[1;33m.\u001b[0m\u001b[0mmanagement\u001b[0m\u001b[1;33m.\u001b[0m\u001b[0mMerge\u001b[0m\u001b[1;33m(\u001b[0m\u001b[1;33m[\u001b[0m\u001b[0mfc\u001b[0m\u001b[1;33m,\u001b[0m \u001b[1;34m\"in_memory/tableInMem\"\u001b[0m\u001b[1;33m]\u001b[0m\u001b[1;33m,\u001b[0m \u001b[0mfcInMem\u001b[0m\u001b[1;33m)\u001b[0m\u001b[1;33m\u001b[0m\u001b[1;33m\u001b[0m\u001b[0m\n",
      "\u001b[1;32mC:\\Program Files\\ArcGIS\\Pro\\Resources\\ArcPy\\arcpy\\management.py\u001b[0m in \u001b[0;36mCopyFeatures\u001b[1;34m(in_features, out_feature_class, config_keyword, spatial_grid_1, spatial_grid_2, spatial_grid_3)\u001b[0m\n\u001b[0;32m   4198\u001b[0m     \u001b[1;32mfrom\u001b[0m \u001b[0marcpy\u001b[0m\u001b[1;33m.\u001b[0m\u001b[0marcobjects\u001b[0m\u001b[1;33m.\u001b[0m\u001b[0marcobjectconversion\u001b[0m \u001b[1;32mimport\u001b[0m \u001b[0mconvertArcObjectToPythonObject\u001b[0m\u001b[1;33m\u001b[0m\u001b[1;33m\u001b[0m\u001b[0m\n\u001b[0;32m   4199\u001b[0m     \u001b[1;32mtry\u001b[0m\u001b[1;33m:\u001b[0m\u001b[1;33m\u001b[0m\u001b[1;33m\u001b[0m\u001b[0m\n\u001b[1;32m-> 4200\u001b[1;33m         \u001b[0mretval\u001b[0m \u001b[1;33m=\u001b[0m \u001b[0mconvertArcObjectToPythonObject\u001b[0m\u001b[1;33m(\u001b[0m\u001b[0mgp\u001b[0m\u001b[1;33m.\u001b[0m\u001b[0mCopyFeatures_management\u001b[0m\u001b[1;33m(\u001b[0m\u001b[1;33m*\u001b[0m\u001b[0mgp_fixargs\u001b[0m\u001b[1;33m(\u001b[0m\u001b[1;33m(\u001b[0m\u001b[0min_features\u001b[0m\u001b[1;33m,\u001b[0m \u001b[0mout_feature_class\u001b[0m\u001b[1;33m,\u001b[0m \u001b[0mconfig_keyword\u001b[0m\u001b[1;33m,\u001b[0m \u001b[0mspatial_grid_1\u001b[0m\u001b[1;33m,\u001b[0m \u001b[0mspatial_grid_2\u001b[0m\u001b[1;33m,\u001b[0m \u001b[0mspatial_grid_3\u001b[0m\u001b[1;33m)\u001b[0m\u001b[1;33m,\u001b[0m \u001b[1;32mTrue\u001b[0m\u001b[1;33m)\u001b[0m\u001b[1;33m)\u001b[0m\u001b[1;33m)\u001b[0m\u001b[1;33m\u001b[0m\u001b[1;33m\u001b[0m\u001b[0m\n\u001b[0m\u001b[0;32m   4201\u001b[0m         \u001b[1;32mreturn\u001b[0m \u001b[0mretval\u001b[0m\u001b[1;33m\u001b[0m\u001b[1;33m\u001b[0m\u001b[0m\n\u001b[0;32m   4202\u001b[0m     \u001b[1;32mexcept\u001b[0m \u001b[0mException\u001b[0m \u001b[1;32mas\u001b[0m \u001b[0me\u001b[0m\u001b[1;33m:\u001b[0m\u001b[1;33m\u001b[0m\u001b[1;33m\u001b[0m\u001b[0m\n",
      "\u001b[1;32mC:\\Program Files\\ArcGIS\\Pro\\Resources\\ArcPy\\arcpy\\geoprocessing\\_base.py\u001b[0m in \u001b[0;36m<lambda>\u001b[1;34m(*args)\u001b[0m\n\u001b[0;32m    518\u001b[0m         \u001b[0mval\u001b[0m \u001b[1;33m=\u001b[0m \u001b[0mgetattr\u001b[0m\u001b[1;33m(\u001b[0m\u001b[0mself\u001b[0m\u001b[1;33m.\u001b[0m\u001b[0m_gp\u001b[0m\u001b[1;33m,\u001b[0m \u001b[0mattr\u001b[0m\u001b[1;33m)\u001b[0m\u001b[1;33m\u001b[0m\u001b[1;33m\u001b[0m\u001b[0m\n\u001b[0;32m    519\u001b[0m         \u001b[1;32mif\u001b[0m \u001b[0mcallable\u001b[0m\u001b[1;33m(\u001b[0m\u001b[0mval\u001b[0m\u001b[1;33m)\u001b[0m\u001b[1;33m:\u001b[0m\u001b[1;33m\u001b[0m\u001b[1;33m\u001b[0m\u001b[0m\n\u001b[1;32m--> 520\u001b[1;33m             \u001b[1;32mreturn\u001b[0m \u001b[1;32mlambda\u001b[0m \u001b[1;33m*\u001b[0m\u001b[0margs\u001b[0m\u001b[1;33m:\u001b[0m \u001b[0mval\u001b[0m\u001b[1;33m(\u001b[0m\u001b[1;33m*\u001b[0m\u001b[0mgp_fixargs\u001b[0m\u001b[1;33m(\u001b[0m\u001b[0margs\u001b[0m\u001b[1;33m,\u001b[0m \u001b[1;32mTrue\u001b[0m\u001b[1;33m)\u001b[0m\u001b[1;33m)\u001b[0m\u001b[1;33m\u001b[0m\u001b[1;33m\u001b[0m\u001b[0m\n\u001b[0m\u001b[0;32m    521\u001b[0m         \u001b[1;32melse\u001b[0m\u001b[1;33m:\u001b[0m\u001b[1;33m\u001b[0m\u001b[1;33m\u001b[0m\u001b[0m\n\u001b[0;32m    522\u001b[0m             \u001b[1;32mreturn\u001b[0m \u001b[0mconvertArcObjectToPythonObject\u001b[0m\u001b[1;33m(\u001b[0m\u001b[0mval\u001b[0m\u001b[1;33m)\u001b[0m\u001b[1;33m\u001b[0m\u001b[1;33m\u001b[0m\u001b[0m\n",
      "\u001b[1;31mKeyboardInterrupt\u001b[0m: "
     ]
    }
   ],
   "source": [
    "# gdb_path = r\"G:/usgrids2020/gdbs\"\n",
    "# gdb_list = os.listdir(gdb_path)\n",
    "# gdb_list.sort()\n",
    "# state_gdb = gdb_list[9]\n",
    "# arcpy.env.workspace = os.path.join(gdb_path, state_gdb)\n",
    "# arcpy.env.overwriteOutput = True\n",
    "# fc = arcpy.ListFeatureClasses()\n",
    "\n",
    "# # feature class\n",
    "# fc = f\"usa{state_gdb[3:5]}_admin5_boundaries\"\n",
    "\n",
    "# # printing all fields in fc\n",
    "# fields = [f.name for f in arcpy.ListFields(fc)]\n",
    "\n",
    "# csvFile = r\"G:/usgrids2020/for_join_data/de_inputs.csv\"\n",
    "\n",
    "def csvToDict(csvFile):\n",
    "    csvDict={}\n",
    "    try:\n",
    "        with open(csvFile,\"r\") as infile:\n",
    "            reader=csv.reader(infile)\n",
    "            i=0\n",
    "            for row in reader: \n",
    "                # print(row)       \n",
    "                if i==0:\n",
    "                    # the first row is the header\n",
    "                    fields=row\n",
    "                    i+=1\n",
    "                else:\n",
    "                    csvDict[row[0]]=row\n",
    "        return((fields,csvDict))\n",
    "    except Exception as err:\n",
    "        print(f\"Unexpected {err=}, {type(err)=}\")\n",
    "        print(arcpy.GetMessages())\n",
    "        return(\"ERROR\")\n",
    "    \n",
    "def process(fc):\n",
    "    name = os.path.basename(fc)\n",
    "    stateCode = name[3:5]\n",
    "    csvFile = f\"G:/usgrids2020/for_join_data/{stateCode}_inputs.csv\"\n",
    "    arcpy.env.workspace = f\"G:/usgrids2020/test_gdb/usa{stateCode}.gdb\"\n",
    "    if not arcpy.Exists(csvFile):\n",
    "        return ((0,csvFile+\"does not exist\"))\n",
    "    response = csvToDict(csvFile)\n",
    "    csvFields = response[0]\n",
    "    csvDict = response[1]\n",
    "    if response==\"ERROR\":\n",
    "        return ((0,\"CSVDICT ERROR\"))\n",
    "    fcInMem = \"in_memory/test\"\n",
    "    arcpy.management.CopyFeatures(fc, fcInMem)\n",
    "    arcpy.conversion.TableToTable(csvFile, \"in_memory\", \"tableInMem\")\n",
    "    arcpy.management.Merge([fc, \"in_memory/tableInMem\"], fcInMem)\n",
    "    out_path = f\"G:/usgrids2020/test_gdb/usa{stateCode}.gdb/{stateCode}_joined\"\n",
    "    with arcpy.da.UpdateCursor(fcInMem, csvFields) as cursor:\n",
    "        for row in cursor:\n",
    "            header = row[0]\n",
    "            if header in csvDict:\n",
    "                csvData = csvDict[header]\n",
    "                cursor.updateRow(csvData)\n",
    "    arcpy.management.CopyFeatures(fcInMem, out_path)\n",
    "\n",
    "def main():\n",
    "    readTime = datetime.datetime.now()\n",
    "    gdb_path = r\"G:/usgrids2020/test_gdb/\"\n",
    "    gdb_list = os.listdir(gdb_path)[:39]\n",
    "    gdb_list.sort()\n",
    "    procList = arcpy.ListWorkspaces(\"*\")\n",
    "    procList = [os.path.join(gdb_path, state, f\"usa{state[3:5]}_admin5_boundaries\") for state in gdb_list]\n",
    "    for p in procList:\n",
    "        print(f\"Processing for {p}\")\n",
    "        print(process(p))\n",
    "        print(f\"Script Complete in {str(datetime.datetime.now()- readTime)}\")\n",
    "# this is for multicore processing\n",
    "    multiprocessing.set_executable(os.path.join(get_install_path(), 'pythonw.exe'))\n",
    "    pool = multiprocessing.Pool(processes=32, maxtasksperchild=1)# processes should = number of cores\n",
    "    results = pool.map(process, procList)\n",
    "    for result in results:\n",
    "        print(result)        \n",
    "    # Synchronize the main process with the job processes to\n",
    "    # ensure proper cleanup.\n",
    "    pool.close()\n",
    "    pool.join()\n",
    "\n",
    "if __name__ == \"__main__\":\n",
    "    main()"
   ]
  },
  {
   "cell_type": "code",
   "execution_count": 35,
   "id": "2e3a57f0",
   "metadata": {},
   "outputs": [
    {
     "name": "stdout",
     "output_type": "stream",
     "text": [
      "de\n"
     ]
    }
   ],
   "source": [
    "out_path = \"G:/usgrids2020/gdbs/usadetest.gdb/test\"\n",
    "print(os.path.basename(fc)[3:5])\n",
    "# with arcpy.da.UpdateCursor(fcInMem, csvFields) as cursor:\n",
    "#     for row in cursor:\n",
    "#         header = row[0]\n",
    "#         if header in csvDict:\n",
    "#             csvData = csvDict[header]\n",
    "#             cursor.updateRow(csvData)\n",
    "# arcpy.management.CopyFeatures(fcInMem, out_path)"
   ]
  },
  {
   "cell_type": "code",
   "execution_count": 51,
   "id": "c2ad9543",
   "metadata": {},
   "outputs": [
    {
     "name": "stdout",
     "output_type": "stream",
     "text": [
      "G:/usgrids2020/test_gdb\\usaak.gdb\n",
      "G:/usgrids2020/test_gdb\\usaal.gdb\n",
      "G:/usgrids2020/test_gdb\\usaar.gdb\n",
      "G:/usgrids2020/test_gdb\\usaaz.gdb\n",
      "G:/usgrids2020/test_gdb\\usaca.gdb\n",
      "G:/usgrids2020/test_gdb\\usaco.gdb\n",
      "G:/usgrids2020/test_gdb\\usact.gdb\n",
      "G:/usgrids2020/test_gdb\\usadc.gdb\n",
      "G:/usgrids2020/test_gdb\\usade.gdb\n",
      "G:/usgrids2020/test_gdb\\usafl.gdb\n",
      "G:/usgrids2020/test_gdb\\usaga.gdb\n",
      "G:/usgrids2020/test_gdb\\usahi.gdb\n",
      "G:/usgrids2020/test_gdb\\usaia.gdb\n",
      "G:/usgrids2020/test_gdb\\usaid.gdb\n",
      "G:/usgrids2020/test_gdb\\usail.gdb\n",
      "G:/usgrids2020/test_gdb\\usain.gdb\n",
      "G:/usgrids2020/test_gdb\\usaks.gdb\n",
      "G:/usgrids2020/test_gdb\\usaky.gdb\n",
      "G:/usgrids2020/test_gdb\\usala.gdb\n",
      "G:/usgrids2020/test_gdb\\usama.gdb\n",
      "G:/usgrids2020/test_gdb\\usamd.gdb\n",
      "G:/usgrids2020/test_gdb\\usame.gdb\n",
      "G:/usgrids2020/test_gdb\\usami.gdb\n",
      "G:/usgrids2020/test_gdb\\usamn.gdb\n",
      "G:/usgrids2020/test_gdb\\usamo.gdb\n",
      "G:/usgrids2020/test_gdb\\usams.gdb\n",
      "G:/usgrids2020/test_gdb\\usamt.gdb\n",
      "G:/usgrids2020/test_gdb\\usanc.gdb\n",
      "G:/usgrids2020/test_gdb\\usand.gdb\n",
      "G:/usgrids2020/test_gdb\\usane.gdb\n",
      "G:/usgrids2020/test_gdb\\usanh.gdb\n",
      "G:/usgrids2020/test_gdb\\usanj.gdb\n",
      "G:/usgrids2020/test_gdb\\usanm.gdb\n",
      "G:/usgrids2020/test_gdb\\usanv.gdb\n",
      "G:/usgrids2020/test_gdb\\usany.gdb\n",
      "G:/usgrids2020/test_gdb\\usaoh.gdb\n",
      "G:/usgrids2020/test_gdb\\usaok.gdb\n",
      "G:/usgrids2020/test_gdb\\usaor.gdb\n",
      "G:/usgrids2020/test_gdb\\usapa.gdb\n",
      "G:/usgrids2020/test_gdb\\usapr.gdb\n",
      "G:/usgrids2020/test_gdb\\usari.gdb\n",
      "G:/usgrids2020/test_gdb\\usasc.gdb\n",
      "G:/usgrids2020/test_gdb\\usasd.gdb\n",
      "G:/usgrids2020/test_gdb\\usatn.gdb\n",
      "G:/usgrids2020/test_gdb\\usatx.gdb\n",
      "G:/usgrids2020/test_gdb\\usaut.gdb\n",
      "G:/usgrids2020/test_gdb\\usava.gdb\n",
      "G:/usgrids2020/test_gdb\\usavt.gdb\n",
      "G:/usgrids2020/test_gdb\\usawa.gdb\n",
      "G:/usgrids2020/test_gdb\\usawi.gdb\n",
      "G:/usgrids2020/test_gdb\\usawv.gdb\n",
      "G:/usgrids2020/test_gdb\\usawy.gdb\n"
     ]
    }
   ],
   "source": [
    "test_gdb = arcpy.ListWorkspaces(\"*\")\n",
    "for test in test_gdb:\n",
    "    print(test)"
   ]
  },
  {
   "cell_type": "code",
   "execution_count": null,
   "id": "34655dde",
   "metadata": {},
   "outputs": [],
   "source": [
    "env.workspace"
   ]
  },
  {
   "cell_type": "code",
   "execution_count": null,
   "id": "40177e0f",
   "metadata": {},
   "outputs": [],
   "source": []
  }
 ],
 "metadata": {
  "kernelspec": {
   "display_name": "Python 3 (ipykernel)",
   "language": "python",
   "name": "python3"
  },
  "language_info": {
   "codemirror_mode": {
    "name": "ipython",
    "version": 3
   },
   "file_extension": ".py",
   "mimetype": "text/x-python",
   "name": "python",
   "nbconvert_exporter": "python",
   "pygments_lexer": "ipython3",
   "version": "3.9.18"
  }
 },
 "nbformat": 4,
 "nbformat_minor": 5
}
