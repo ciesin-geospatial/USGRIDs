{
 "cells": [
  {
   "cell_type": "code",
   "execution_count": 1,
   "id": "849cd282",
   "metadata": {},
   "outputs": [],
   "source": [
    "import arcpy\n",
    "from arcpy.ia import *\n",
    "import os \n",
    "import datetime\n",
    "import glob\n",
    "from pathlib import Path"
   ]
  },
  {
   "cell_type": "code",
   "execution_count": 46,
   "id": "c9934457",
   "metadata": {
    "scrolled": true
   },
   "outputs": [],
   "source": [
    "gdb_path = \"G:/usgrids2020/test1\"\n",
    "gdb_list = os.listdir(gdb_path)\n",
    "gdb_list.sort()\n",
    "readTime= datetime.datetime.now()\n",
    "\n",
    "arcpy.env.workspace = os.path.join(gdb_path,gdb_list[0])\n",
    "state = gdb_list[0][3:5]\n",
    "raster_path = \"G:/usgrids2020/raster\"\n",
    "inRaster = glob.glob(f\"G:/usgrids2020/raster/{state.upper()}/*.tif\")\n",
    "fc = f\"usa{state}_joined\"\n",
    "fields = [field.name for field in arcpy.ListFields(fc)]\n",
    "# fields = fields[93:-2]\n",
    "fields.sort()\n",
    "outTable = os.path.join(gdb_path, gdb_list[0])\n",
    "new = inRaster[54:-7] +inRaster[-5:]\n",
    "inRaster = new[:9] + new[12:]\n",
    "arcpy.env.cellSize = 0.0083333333/2\n",
    "# arcpy.MakeFeatureLayer_management(fc, \"lyr\")\n",
    "# new_lyr = arcpy.SelectLayerByAttribute_management(\"lyr\", \"NEW_SELECTION\", \"BLOCKCE20 = '1041'\")\n",
    "grouped = arcpy.management.Dissolve(fc, \"memory/grouped\", \"GEOID20\")\n",
    "outZstats = ZonalStatisticsAsTable(fc, \"GEOID20\", inRaster[-5], \"memory/zonstats\")\n",
    "groupedStats = ZonalStatisticsAsTable(grouped, \"GEOID20\", inRaster[-5], \"memory/groupedstats\")"
   ]
  },
  {
   "cell_type": "code",
   "execution_count": 47,
   "id": "04d426e2",
   "metadata": {
    "scrolled": true
   },
   "outputs": [
    {
     "name": "stdout",
     "output_type": "stream",
     "text": [
      "681986.7457173453\n"
     ]
    }
   ],
   "source": [
    "with arcpy.da.SearchCursor(outZstats, [\"SUM\"]) as cursor:\n",
    "    total = 0\n",
    "    for row in cursor:\n",
    "        total += row[0]\n",
    "    print(total)"
   ]
  },
  {
   "cell_type": "code",
   "execution_count": 48,
   "id": "1af47f3f",
   "metadata": {},
   "outputs": [
    {
     "name": "stdout",
     "output_type": "stream",
     "text": [
      "681986.745717345\n"
     ]
    }
   ],
   "source": [
    "with arcpy.da.SearchCursor(groupedStats, [\"SUM\"]) as cursor:\n",
    "    total = 0\n",
    "    for row in cursor:\n",
    "        total += row[0]\n",
    "    print(total)"
   ]
  },
  {
   "cell_type": "code",
   "execution_count": 50,
   "id": "1e4c9a02",
   "metadata": {},
   "outputs": [
    {
     "name": "stdout",
     "output_type": "stream",
     "text": [
      "689545\n"
     ]
    }
   ],
   "source": [
    "with arcpy.da.SearchCursor(fc, [\"TOTALPOP\"]) as cursor:\n",
    "    total =0\n",
    "    for row in cursor:\n",
    "        total += row[0]\n",
    "    print(total)"
   ]
  },
  {
   "cell_type": "code",
   "execution_count": 39,
   "id": "2fd7487b",
   "metadata": {},
   "outputs": [
    {
     "name": "stdout",
     "output_type": "stream",
     "text": [
      "846\n",
      "846\n"
     ]
    }
   ],
   "source": [
    "print(arcpy.management.GetCount(outZstats))\n",
    "print(arcpy.management.GetCount(groupedStats))"
   ]
  },
  {
   "cell_type": "code",
   "execution_count": 45,
   "id": "023d56d4",
   "metadata": {},
   "outputs": [
    {
     "data": {
      "text/html": [
       "<div class='gpresult'><h2>Messages</h2><div id='messages' data-messages='[\"Start Time: Friday, June 21, 2024 5:06:26 PM\",\"Succeeded at Friday, June 21, 2024 5:06:26 PM (Elapsed Time: 0.01 seconds)\"]' data-show='true'><div id = 'default' /></div></div>"
      ],
      "text/plain": [
       "<Result 'true'>"
      ]
     },
     "execution_count": 45,
     "metadata": {},
     "output_type": "execute_result"
    }
   ],
   "source": [
    "arcpy.management.Delete(\"memory/zonstats\")\n",
    "arcpy.management.Delete(\"memory/grouped\")\n",
    "arcpy.management.Delete(\"memory/groupedstats\")"
   ]
  },
  {
   "cell_type": "code",
   "execution_count": 51,
   "id": "a497abe0",
   "metadata": {},
   "outputs": [
    {
     "data": {
      "text/plain": [
       "'usadc.gdb'"
      ]
     },
     "execution_count": 51,
     "metadata": {},
     "output_type": "execute_result"
    }
   ],
   "source": [
    "gdb_list[0]"
   ]
  },
  {
   "cell_type": "code",
   "execution_count": 52,
   "id": "626eead0",
   "metadata": {},
   "outputs": [
    {
     "name": "stdout",
     "output_type": "stream",
     "text": [
      "0.00416666665\n"
     ]
    }
   ],
   "source": [
    "print(arcpy.env.cellSize)"
   ]
  },
  {
   "cell_type": "code",
   "execution_count": 55,
   "id": "b3853f82",
   "metadata": {},
   "outputs": [
    {
     "data": {
      "text/plain": [
       "['G:/usgrids2020/raster\\\\AL',\n",
       " 'G:/usgrids2020/raster\\\\AR',\n",
       " 'G:/usgrids2020/raster\\\\AZ',\n",
       " 'G:/usgrids2020/raster\\\\CA',\n",
       " 'G:/usgrids2020/raster\\\\CO',\n",
       " 'G:/usgrids2020/raster\\\\CT',\n",
       " 'G:/usgrids2020/raster\\\\DC',\n",
       " 'G:/usgrids2020/raster\\\\DE',\n",
       " 'G:/usgrids2020/raster\\\\FL',\n",
       " 'G:/usgrids2020/raster\\\\GA',\n",
       " 'G:/usgrids2020/raster\\\\HI',\n",
       " 'G:/usgrids2020/raster\\\\IA',\n",
       " 'G:/usgrids2020/raster\\\\ID',\n",
       " 'G:/usgrids2020/raster\\\\IL',\n",
       " 'G:/usgrids2020/raster\\\\IN',\n",
       " 'G:/usgrids2020/raster\\\\KS',\n",
       " 'G:/usgrids2020/raster\\\\KY',\n",
       " 'G:/usgrids2020/raster\\\\LA',\n",
       " 'G:/usgrids2020/raster\\\\MA',\n",
       " 'G:/usgrids2020/raster\\\\MD',\n",
       " 'G:/usgrids2020/raster\\\\ME',\n",
       " 'G:/usgrids2020/raster\\\\MI',\n",
       " 'G:/usgrids2020/raster\\\\MN',\n",
       " 'G:/usgrids2020/raster\\\\MO',\n",
       " 'G:/usgrids2020/raster\\\\MS',\n",
       " 'G:/usgrids2020/raster\\\\MT',\n",
       " 'G:/usgrids2020/raster\\\\NC',\n",
       " 'G:/usgrids2020/raster\\\\ND',\n",
       " 'G:/usgrids2020/raster\\\\NE',\n",
       " 'G:/usgrids2020/raster\\\\NH',\n",
       " 'G:/usgrids2020/raster\\\\NJ',\n",
       " 'G:/usgrids2020/raster\\\\NM',\n",
       " 'G:/usgrids2020/raster\\\\NV',\n",
       " 'G:/usgrids2020/raster\\\\NY',\n",
       " 'G:/usgrids2020/raster\\\\OH',\n",
       " 'G:/usgrids2020/raster\\\\OK',\n",
       " 'G:/usgrids2020/raster\\\\OR',\n",
       " 'G:/usgrids2020/raster\\\\PA',\n",
       " 'G:/usgrids2020/raster\\\\RI',\n",
       " 'G:/usgrids2020/raster\\\\SC',\n",
       " 'G:/usgrids2020/raster\\\\SD',\n",
       " 'G:/usgrids2020/raster\\\\TN',\n",
       " 'G:/usgrids2020/raster\\\\TX',\n",
       " 'G:/usgrids2020/raster\\\\UT',\n",
       " 'G:/usgrids2020/raster\\\\VA',\n",
       " 'G:/usgrids2020/raster\\\\VT',\n",
       " 'G:/usgrids2020/raster\\\\WA',\n",
       " 'G:/usgrids2020/raster\\\\WI',\n",
       " 'G:/usgrids2020/raster\\\\WV',\n",
       " 'G:/usgrids2020/raster\\\\WY']"
      ]
     },
     "execution_count": 55,
     "metadata": {},
     "output_type": "execute_result"
    }
   ],
   "source": [
    "state_path = r\"G:/usgrids2020/raster\"\n",
    "state_list = os.listdir(state_path)\n",
    "state_list = [os.path.join(state_path, state) for state in state_list] \n",
    "state_list"
   ]
  },
  {
   "cell_type": "code",
   "execution_count": null,
   "id": "b0e92471",
   "metadata": {},
   "outputs": [],
   "source": []
  }
 ],
 "metadata": {
  "kernelspec": {
   "display_name": "Python 3 (ipykernel)",
   "language": "python",
   "name": "python3"
  },
  "language_info": {
   "codemirror_mode": {
    "name": "ipython",
    "version": 3
   },
   "file_extension": ".py",
   "mimetype": "text/x-python",
   "name": "python",
   "nbconvert_exporter": "python",
   "pygments_lexer": "ipython3",
   "version": "3.9.18"
  }
 },
 "nbformat": 4,
 "nbformat_minor": 5
}
