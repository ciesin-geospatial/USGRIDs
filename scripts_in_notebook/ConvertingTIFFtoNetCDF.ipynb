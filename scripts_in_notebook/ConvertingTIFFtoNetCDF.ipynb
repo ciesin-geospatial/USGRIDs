{
 "cells": [
  {
   "cell_type": "code",
   "execution_count": null,
   "id": "e1ebc0ea",
   "metadata": {},
   "outputs": [],
   "source": [
    "pip install rioxarray"
   ]
  },
  {
   "cell_type": "code",
   "execution_count": null,
   "id": "403fd5ba",
   "metadata": {},
   "outputs": [],
   "source": [
    "import os \n",
    "import arcpy\n",
    "import datetime\n",
    "import xarray as xr\n",
    "import pandas as pd\n",
    "import glob\n",
    "import rioxarray\n",
    "import rasterio\n",
    "import numpy as np"
   ]
  },
  {
   "cell_type": "code",
   "execution_count": null,
   "id": "0c046ddf",
   "metadata": {},
   "outputs": [],
   "source": [
    "filenames = glob.glob(\"G:/usgrids2020/raster/AL/*.tif\")\n",
    "\n",
    "fields = [field[25:-4] for field in filenames]\n",
    "fields"
   ]
  },
  {
   "cell_type": "code",
   "execution_count": null,
   "id": "feceaf5c",
   "metadata": {},
   "outputs": [],
   "source": [
    "# List of filenames containing raster data\n",
    "filenames = glob.glob(\"G:/usgrids2020/raster/DC/*.tif\")  # Add your list of filenames here\n",
    "filenames = filenames[54:63] + filenames[66:] #Dropping the GPW variables\n",
    "# List of variable names (optional)\n",
    "variable_names = [field[25:-4] for field in filenames]  # Add variable names corresponding to each filename\n",
    "\n",
    "# Create a list of xarray.DataArray objects\n",
    "data_arrays = []\n",
    "for f, var_name in zip(filenames, variable_names):\n",
    "    ds = xr.Dataset()\n",
    "    data_array = rioxarray.open_rasterio(f, chunks={'x': 5490, 'y': 5490})\n",
    "    data_array.name = var_name  # Assign variable name\n",
    "    data_arrays.append(data_array)\n",
    "dataset = xr.Dataset({data_array.name: data_array for data_array in data_arrays})\n",
    "\n",
    "# Concatenate the list of DataArray objects along the time dimension\n",
    "dataset.to_netcdf(\"G:/usgrids2020/multidimensional_files/usadc.nc\")"
   ]
  },
  {
   "cell_type": "code",
   "execution_count": null,
   "id": "fb1fd8b6",
   "metadata": {},
   "outputs": [],
   "source": [
    "filenames = glob.glob(\"G:/usgrids2020/raster/DC/*.tif\")  # Add your list of filenames here\n",
    "filenames = filenames[54:63] + filenames[66:] #Dropping the GPW variables\n",
    "# List of variable names (optional)\n",
    "variable_names = [field[25:-4] for field in filenames]  # Add variable names corresponding to each filename\n",
    "filenames"
   ]
  },
  {
   "cell_type": "code",
   "execution_count": null,
   "id": "30e3fca4",
   "metadata": {},
   "outputs": [],
   "source": []
  }
 ],
 "metadata": {
  "kernelspec": {
   "display_name": "Python 3 (ipykernel)",
   "language": "python",
   "name": "python3"
  },
  "language_info": {
   "codemirror_mode": {
    "name": "ipython",
    "version": 3
   },
   "file_extension": ".py",
   "mimetype": "text/x-python",
   "name": "python",
   "nbconvert_exporter": "python",
   "pygments_lexer": "ipython3",
   "version": "3.9.18"
  }
 },
 "nbformat": 4,
 "nbformat_minor": 5
}
