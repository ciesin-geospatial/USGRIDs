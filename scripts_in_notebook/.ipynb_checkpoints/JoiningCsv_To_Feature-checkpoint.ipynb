{
 "cells": [
  {
   "cell_type": "code",
   "execution_count": null,
   "id": "8525d502",
   "metadata": {},
   "outputs": [],
   "source": [
    "import arcpy\n",
    "import os,datetime\n",
    "import csv\n",
    "import multiprocessing"
   ]
  },
  {
   "cell_type": "code",
   "execution_count": null,
   "id": "4af66acc",
   "metadata": {},
   "outputs": [],
   "source": [
    "gdb_path = r\"G:/usgrids2020/final_gdbs\"\n",
    "gdb_list = os.listdir(gdb_path)\n",
    "gdb_list.sort()\n",
    "\n",
    "for state in gdb_list[39:]:\n",
    "    readTime = datetime.datetime.now()\n",
    "    arcpy.env.workspace = os.path.join(gdb_path, state)\n",
    "    arcpy.env.overwriteOutput = True\n",
    "    # feature class\n",
    "    fc = f\"usa{state[3:5]}_admin5_boundaries\"\n",
    "    #Read CSV file for inputs\n",
    "    csvPath = r\"G:/usgrids2020/for_join_data/\"\n",
    "    csvFile = os.path.join(csvPath, f\"{state[3:5]}_inputs.csv\")\n",
    "    print(f\"Obtaining data from {csvFile}\")\n",
    "    csvDict={}\n",
    "    #Convert the csv to dictionary\n",
    "    with open(csvFile,\"r\") as infile:\n",
    "        reader=csv.reader(infile)\n",
    "        i=0\n",
    "        for row in reader: \n",
    "            if i==0:\n",
    "                # the first row is the header\n",
    "                fields=row\n",
    "                i+=1\n",
    "            else:\n",
    "                csvDict[row[0]]=row\n",
    "    csvFields = fields\n",
    "    csvDict = csvDict\n",
    "    fcInMem = \"in_memory/fc_inmem\"\n",
    "    print(f\"Processing for {state[3:5]}\")\n",
    "    #Creating a feature in memory\n",
    "    arcpy.management.CopyFeatures(fc, fcInMem)\n",
    "    #Convert the csv to a table for joining\n",
    "    arcpy.conversion.TableToTable(csvFile, \"in_memory\", \"tableInMem\")\n",
    "    #Merge the feature with csv table file on GEOID20\n",
    "    arcpy.management.Merge([fc, \"in_memory/tableInMem\"], fcInMem)\n",
    "    out_path = f\"G:/usgrids2020/final_gdbs/usa{state[3:5]}.gdb/usa{state[3:5]}_joined\"\n",
    "    with arcpy.da.UpdateCursor(fcInMem, csvFields) as cursor:\n",
    "        for row in cursor:\n",
    "            #The first element in csvField (GEOID20) in feature class (fcInMem) will be the keys to retrieve data \n",
    "            #from csvDict\n",
    "            header = row[0]\n",
    "            if header in csvDict:\n",
    "                csvData = csvDict[header]\n",
    "                cursor.updateRow(csvData)\n",
    "    arcpy.management.CopyFeatures(fcInMem, out_path)\n",
    "    print(f\"Finished in {str(datetime.datetime.now() - readTime)}\")"
   ]
  },
  {
   "cell_type": "code",
   "execution_count": null,
   "id": "bc0e13b2",
   "metadata": {},
   "outputs": [],
   "source": []
  }
 ],
 "metadata": {
  "kernelspec": {
   "display_name": "Python 3 (ipykernel)",
   "language": "python",
   "name": "python3"
  },
  "language_info": {
   "codemirror_mode": {
    "name": "ipython",
    "version": 3
   },
   "file_extension": ".py",
   "mimetype": "text/x-python",
   "name": "python",
   "nbconvert_exporter": "python",
   "pygments_lexer": "ipython3",
   "version": "3.9.18"
  }
 },
 "nbformat": 4,
 "nbformat_minor": 5
}
