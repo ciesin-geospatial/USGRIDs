{
 "cells": [
  {
   "cell_type": "code",
   "execution_count": null,
   "id": "ecfebf2d",
   "metadata": {},
   "outputs": [],
   "source": [
    "!pip install geopandas\n"
   ]
  },
  {
   "cell_type": "code",
   "execution_count": null,
   "id": "da5e85e8",
   "metadata": {},
   "outputs": [],
   "source": [
    "pip list"
   ]
  },
  {
   "cell_type": "code",
   "execution_count": 85,
   "id": "a6cdb5ca",
   "metadata": {},
   "outputs": [],
   "source": [
    "import pandas as pd\n",
    "import arcpy\n",
    "from arcpy import env\n",
    "import geopandas as gpd\n",
    "import os\n",
    "import csv\n",
    "import multiprocessing"
   ]
  },
  {
   "cell_type": "code",
   "execution_count": null,
   "id": "38b5214b",
   "metadata": {},
   "outputs": [],
   "source": [
    "# Set the current workspace \n",
    "folder_path = \"G:/usgrids2020/for_join_data/\"\n",
    "gdb_path = r\"G:/usgrids2020/gdbs/\"\n",
    "gdb_list = os.listdir(gdb_path)\n",
    "gdb_list.sort()\n",
    "for state_gdb in gdb_list[2:]:\n",
    "    env.workspace = os.path.join(gdb_path, state_gdb)\n",
    "    env.overwriteOutput = True\n",
    "    print(env.workspace)\n",
    "    # feature class\n",
    "    # Set the local parameters\n",
    "    joinTable = os.path.join(folder_path, f\"{state_gdb[3:5]}_inputs.csv\")\n",
    "    print(joinTable)\n",
    "    # create in memory path\n",
    "    memory = 'in_memory/'\n",
    "    mem_table_path = os.path.join(memory, 'csv')\n",
    "\n",
    "    #create the in memory table\n",
    "    arcpy.CopyRows_management(joinTable, mem_table_path)  \n",
    "    #Add join from inputs.csv to feature in gdb \n",
    "    joined_table = arcpy.management.AddJoin(\n",
    "        in_layer_or_view=f\"usa{state_gdb[3:5]}_admin5_boundaries\",\n",
    "        in_field=\"GEOID20\",\n",
    "        join_table=joinTable,\n",
    "        join_field=\"GEOID20\",\n",
    "        join_type=\"KEEP_ALL\",\n",
    "        index_join_fields=\"NO_INDEX_JOIN_FIELDS\",\n",
    "        rebuild_index=\"NO_REBUILD_INDEX\"\n",
    "    )\n",
    "\n",
    "    arcpy.management.CopyFeatures(joined_table, \"joinedtable\")\n",
    "    print(\"Done!\")\n",
    "    # Join two feature classes by the zonecode field and only carry \n",
    "    # over the land use and land cover fields\n",
    "    # arcpy.management.JoinField(fc, joinField, mem_table_path, joinField)"
   ]
  }
 ],
 "metadata": {
  "kernelspec": {
   "display_name": "Python 3 (ipykernel)",
   "language": "python",
   "name": "python3"
  },
  "language_info": {
   "codemirror_mode": {
    "name": "ipython",
    "version": 3
   },
   "file_extension": ".py",
   "mimetype": "text/x-python",
   "name": "python",
   "nbconvert_exporter": "python",
   "pygments_lexer": "ipython3",
   "version": "3.9.18"
  }
 },
 "nbformat": 4,
 "nbformat_minor": 5
}
