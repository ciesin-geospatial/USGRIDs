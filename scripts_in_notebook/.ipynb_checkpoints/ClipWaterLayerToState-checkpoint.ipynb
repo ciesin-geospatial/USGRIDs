{
 "cells": [
  {
   "cell_type": "code",
   "execution_count": null,
   "id": "c24b0e2a",
   "metadata": {},
   "outputs": [],
   "source": [
    "import arcpy \n",
    "import datetime\n",
    "import os\n",
    "import multiprocessing"
   ]
  },
  {
   "cell_type": "code",
   "execution_count": null,
   "id": "5e4422b3",
   "metadata": {},
   "outputs": [],
   "source": [
    "shp_path = r\"G:/usgrids2020/shp/\"\n",
    "shp_list = os.listdir(shp_path)\n",
    "shp_list.sort()\n",
    "arcpy.env.workspace = r\"G:/usgrids2020/water_layer\"\n",
    "shp_state = [os.path.join(shp_path,state) for state in shp_list if state.split(\".\")[-1] == \"shp\"]\n",
    "for state in shp_state:\n",
    "    readTime = datetime.datetime.now()\n",
    "    state_code = os.path.basename(state)[:2]\n",
    "    print(f\"Processing for {state_code}\")\n",
    "    arcpy.analysis.Clip(\"G:/usgrids2020/water_layer/tiger2022_water.shp\", state, f\"G:/usgrids2020/water_state/{state_code}_water_layer.shp\")\n",
    "    print(f\"Script finished in {str(datetime.datetime.now() - readTime)}\")\n"
   ]
  },
  {
   "cell_type": "code",
   "execution_count": null,
   "id": "e6617a19",
   "metadata": {},
   "outputs": [],
   "source": []
  }
 ],
 "metadata": {
  "kernelspec": {
   "display_name": "Python 3 (ipykernel)",
   "language": "python",
   "name": "python3"
  },
  "language_info": {
   "codemirror_mode": {
    "name": "ipython",
    "version": 3
   },
   "file_extension": ".py",
   "mimetype": "text/x-python",
   "name": "python",
   "nbconvert_exporter": "python",
   "pygments_lexer": "ipython3",
   "version": "3.9.18"
  }
 },
 "nbformat": 4,
 "nbformat_minor": 5
}
