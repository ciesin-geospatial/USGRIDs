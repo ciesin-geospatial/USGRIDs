{
 "cells": [
  {
   "cell_type": "code",
   "execution_count": 2,
   "id": "01589fb7",
   "metadata": {},
   "outputs": [
    {
     "name": "stderr",
     "output_type": "stream",
     "text": [
      "C:\\Users\\htran\\AppData\\Roaming\\Python\\Python39\\site-packages\\pandas\\core\\arrays\\masked.py:60: UserWarning: Pandas requires version '1.3.6' or newer of 'bottleneck' (version '1.3.5' currently installed).\n",
      "  from pandas.core import (\n"
     ]
    }
   ],
   "source": [
    "import os, arcpy\n",
    "import pandas as pd\n",
    "import geopandas as gpd\n",
    "import datetime"
   ]
  },
  {
   "cell_type": "code",
   "execution_count": 1,
   "id": "9377e6ed",
   "metadata": {},
   "outputs": [
    {
     "ename": "NameError",
     "evalue": "name 'os' is not defined",
     "output_type": "error",
     "traceback": [
      "\u001b[1;31m---------------------------------------------------------------------------\u001b[0m",
      "\u001b[1;31mNameError\u001b[0m                                 Traceback (most recent call last)",
      "\u001b[1;32m~\\AppData\\Local\\Temp\\3\\ipykernel_27472\\4135523648.py\u001b[0m in \u001b[0;36m<cell line: 3>\u001b[1;34m()\u001b[0m\n\u001b[0;32m      1\u001b[0m \u001b[1;31m#Read the path for geodatabases\u001b[0m\u001b[1;33m\u001b[0m\u001b[1;33m\u001b[0m\u001b[0m\n\u001b[0;32m      2\u001b[0m \u001b[0mgdb_path\u001b[0m \u001b[1;33m=\u001b[0m \u001b[1;34m\"G:/usgrids2020/final_gdbs/\"\u001b[0m\u001b[1;33m\u001b[0m\u001b[1;33m\u001b[0m\u001b[0m\n\u001b[1;32m----> 3\u001b[1;33m \u001b[0mstate_gdb\u001b[0m \u001b[1;33m=\u001b[0m \u001b[0mos\u001b[0m\u001b[1;33m.\u001b[0m\u001b[0mlistdir\u001b[0m\u001b[1;33m(\u001b[0m\u001b[0mgdb_path\u001b[0m\u001b[1;33m)\u001b[0m\u001b[1;33m\u001b[0m\u001b[1;33m\u001b[0m\u001b[0m\n\u001b[0m\u001b[0;32m      4\u001b[0m \u001b[0mstate_gdb\u001b[0m\u001b[1;33m.\u001b[0m\u001b[0msort\u001b[0m\u001b[1;33m(\u001b[0m\u001b[1;33m)\u001b[0m\u001b[1;33m\u001b[0m\u001b[1;33m\u001b[0m\u001b[0m\n\u001b[0;32m      5\u001b[0m \u001b[1;32mfor\u001b[0m \u001b[0mstate\u001b[0m \u001b[1;32min\u001b[0m \u001b[0mstate_gdb\u001b[0m\u001b[1;33m:\u001b[0m\u001b[1;33m\u001b[0m\u001b[1;33m\u001b[0m\u001b[0m\n",
      "\u001b[1;31mNameError\u001b[0m: name 'os' is not defined"
     ]
    }
   ],
   "source": [
    "#Read the path for geodatabases\n",
    "gdb_path = \"G:/usgrids2020/gdbs/\"\n",
    "state_gdb = os.listdir(gdb_path)\n",
    "state_gdb.sort()\n",
    "for state in state_gdb:\n",
    "    arcpy.env.workspace = os.path.join(gdb_path, f\"usa{state[3:5]}.gdb\")\n",
    "    #The feature class is which we created from joinning script\n",
    "    feature_class = f\"usa{state[3:5]}_joined\"\n",
    "    #Get all the fields for renaming them later\n",
    "    fields = [field.name for field in arcpy.ListFields(feature_class)]\n",
    "    #Subset the fields only desired for USGRIDs\n",
    "    fields1 =   fields[17:94] \n",
    "    out_fc = f\"in_memory/{state[3:5]}20\"\n",
    "    output_path = \"G:/usgrids2020/shp\"\n",
    "    #Create a feature class in memory in order to retain the original\n",
    "    arcpy.management.CopyFeatures(feature_class, out_fc)\n",
    "    scriptTime = datetime.datetime.now()\n",
    "    arcpy.management.DeleteField(out_fc, fields1)\n",
    "    #Get the name for old fields and new fields for renaming\n",
    "    old_field = list()\n",
    "    new_field=list()\n",
    "    for field in arcpy.ListFields(out_fc):\n",
    "        old_field.append(field.name)\n",
    "    old_field = old_field[2:-2]\n",
    "    for field in old_field:\n",
    "        new_field.append(field.split(\"_\")[-1])\n",
    "    #Rename all the fields\n",
    "    for i in range(len(old_field)):\n",
    "        arcpy.AlterField_management(out_fc , old_field[i], new_field[i], new_field[i])\n",
    "    #Convert the feature in memory to shapefile after renamed and deleted unwanted fields\n",
    "    arcpy.conversion.FeatureClassToShapefile(out_fc, output_path)\n",
    "    print(f\"Finished script for {state[3:5]}\")\n",
    "    print(\"The script took: \" + str(datetime.datetime.now() - scriptTime))"
   ]
  }
 ],
 "metadata": {
  "kernelspec": {
   "display_name": "Python 3 (ipykernel)",
   "language": "python",
   "name": "python3"
  },
  "language_info": {
   "codemirror_mode": {
    "name": "ipython",
    "version": 3
   },
   "file_extension": ".py",
   "mimetype": "text/x-python",
   "name": "python",
   "nbconvert_exporter": "python",
   "pygments_lexer": "ipython3",
   "version": "3.9.18"
  }
 },
 "nbformat": 4,
 "nbformat_minor": 5
}
