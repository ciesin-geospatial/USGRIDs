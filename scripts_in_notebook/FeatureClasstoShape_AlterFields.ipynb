{
 "cells": [
  {
   "cell_type": "code",
   "execution_count": 2,
   "id": "01589fb7",
   "metadata": {},
   "outputs": [],
   "source": [
    "import os, arcpy\n",
    "import pandas as pd\n",
    "import geopandas as gpd\n",
    "import datetime"
   ]
  },
  {
   "cell_type": "code",
   "execution_count": 16,
   "id": "9377e6ed",
   "metadata": {},
   "outputs": [
    {
     "name": "stdout",
     "output_type": "stream",
     "text": [
      "Finished script for ri\n",
      "The script took: 0:00:05.859905\n",
      "Finished script for sc\n",
      "The script took: 0:01:59.061019\n",
      "Finished script for sd\n",
      "The script took: 0:01:24.105436\n",
      "Finished script for tn\n",
      "The script took: 0:04:29.525770\n",
      "Finished script for tx\n",
      "The script took: 0:07:44.471795\n",
      "Finished script for ut\n",
      "The script took: 0:01:37.466511\n",
      "Finished script for va\n",
      "The script took: 0:02:55.584408\n",
      "Finished script for vt\n",
      "The script took: 0:00:19.426218\n",
      "Finished script for wa\n",
      "The script took: 0:03:26.535149\n",
      "Finished script for wi\n",
      "The script took: 0:06:03.382149\n",
      "Finished script for wv\n",
      "The script took: 0:01:03.106940\n",
      "Finished script for wy\n",
      "The script took: 0:01:55.111094\n"
     ]
    }
   ],
   "source": [
    "#Read the path for geodatabases\n",
    "gdb_path = \"G:/usgrids2020/gdbs/\"\n",
    "state_gdb = os.listdir(gdb_path)\n",
    "state_gdb.sort()\n",
    "for state in state_gdb[41:]:\n",
    "    arcpy.env.workspace = os.path.join(gdb_path, f\"usa{state[3:5]}.gdb\")\n",
    "    #The feature class is which we created from joinning script\n",
    "    feature_class = \"joinedtable\"\n",
    "    #Get all the fields for renaming them later\n",
    "    fields = [field.name for field in arcpy.ListFields(feature_class)]\n",
    "    #Subset the fields only desired for USGRIDs\n",
    "    fields1 =   fields[17:94] \n",
    "    out_fc = f\"in_memory/{state[3:5]}20\"\n",
    "    output_path = \"G:/usgrids2020/shp\"\n",
    "    #Create a feature class in memory in order to retain the original\n",
    "    arcpy.management.CopyFeatures(feature_class, out_fc)\n",
    "    scriptTime = datetime.datetime.now()\n",
    "    arcpy.management.DeleteField(out_fc, fields1)\n",
    "    #Get the name for old fields and new fields for renaming\n",
    "    old_field = list()\n",
    "    new_field=list()\n",
    "    for field in arcpy.ListFields(out_fc):\n",
    "        old_field.append(field.name)\n",
    "    old_field = old_field[2:-2]\n",
    "    for field in old_field:\n",
    "        new_field.append(field.split(\"_\")[-1])\n",
    "    #Rename all the fields\n",
    "    for i in range(len(old_field)):\n",
    "        arcpy.AlterField_management(out_fc , old_field[i], new_field[i], new_field[i])\n",
    "    #Convert the feature in memory to shapefile after renamed and deleted unwanted fields\n",
    "    arcpy.conversion.FeatureClassToShapefile(out_fc, output_path)\n",
    "    print(f\"Finished script for {state[3:5]}\")\n",
    "    print(\"The script took: \" + str(datetime.datetime.now() - scriptTime))"
   ]
  },
  {
   "cell_type": "code",
   "execution_count": null,
   "id": "b3f68755",
   "metadata": {},
   "outputs": [],
   "source": []
  }
 ],
 "metadata": {
  "kernelspec": {
   "display_name": "Python 3 (ipykernel)",
   "language": "python",
   "name": "python3"
  },
  "language_info": {
   "codemirror_mode": {
    "name": "ipython",
    "version": 3
   },
   "file_extension": ".py",
   "mimetype": "text/x-python",
   "name": "python",
   "nbconvert_exporter": "python",
   "pygments_lexer": "ipython3",
   "version": "3.9.18"
  }
 },
 "nbformat": 4,
 "nbformat_minor": 5
}
