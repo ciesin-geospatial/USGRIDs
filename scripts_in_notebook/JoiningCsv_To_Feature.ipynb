{
 "cells": [
  {
   "cell_type": "code",
   "execution_count": 2,
   "id": "8525d502",
   "metadata": {},
   "outputs": [],
   "source": [
    "import arcpy\n",
    "import os,datetime\n",
    "import csv\n",
    "import multiprocessing"
   ]
  },
  {
   "cell_type": "code",
   "execution_count": 45,
   "id": "4af66acc",
   "metadata": {},
   "outputs": [
    {
     "name": "stdout",
     "output_type": "stream",
     "text": [
      "Obtaining data from G:/usgrids2020/for_join_data/ri_inputs.csv\n",
      "Processing for ri\n",
      "Finished in 0:00:10.556845\n",
      "Obtaining data from G:/usgrids2020/for_join_data/sc_inputs.csv\n",
      "Processing for sc\n",
      "Finished in 0:00:51.945636\n",
      "Obtaining data from G:/usgrids2020/for_join_data/sd_inputs.csv\n",
      "Processing for sd\n",
      "Finished in 0:00:26.509350\n",
      "Obtaining data from G:/usgrids2020/for_join_data/tn_inputs.csv\n",
      "Processing for tn\n",
      "Finished in 0:01:06.681469\n",
      "Obtaining data from G:/usgrids2020/for_join_data/tx_inputs.csv\n",
      "Processing for tx\n",
      "Finished in 0:03:50.771531\n",
      "Obtaining data from G:/usgrids2020/for_join_data/ut_inputs.csv\n",
      "Processing for ut\n",
      "Finished in 0:00:29.088488\n",
      "Obtaining data from G:/usgrids2020/for_join_data/va_inputs.csv\n",
      "Processing for va\n",
      "Finished in 0:01:01.573959\n",
      "Obtaining data from G:/usgrids2020/for_join_data/vt_inputs.csv\n",
      "Processing for vt\n",
      "Finished in 0:00:11.053816\n",
      "Obtaining data from G:/usgrids2020/for_join_data/wa_inputs.csv\n",
      "Processing for wa\n",
      "Finished in 0:00:56.772073\n",
      "Obtaining data from G:/usgrids2020/for_join_data/wi_inputs.csv\n",
      "Processing for wi\n",
      "Finished in 0:01:13.400829\n",
      "Obtaining data from G:/usgrids2020/for_join_data/wv_inputs.csv\n",
      "Processing for wv\n",
      "Finished in 0:00:29.259370\n",
      "Obtaining data from G:/usgrids2020/for_join_data/wy_inputs.csv\n",
      "Processing for wy\n",
      "Finished in 0:00:22.757587\n"
     ]
    }
   ],
   "source": [
    "gdb_path = r\"G:/usgrids2020/final_gdbs\"\n",
    "gdb_list = os.listdir(gdb_path)\n",
    "gdb_list.sort()\n",
    "\n",
    "for state in gdb_list[40:]:\n",
    "    readTime = datetime.datetime.now()\n",
    "    arcpy.env.workspace = os.path.join(gdb_path, state)\n",
    "    arcpy.env.overwriteOutput = True\n",
    "    # feature class\n",
    "    fc = f\"usa{state[3:5]}_admin5_boundaries\"\n",
    "    #Read CSV file for inputs\n",
    "    csvPath = r\"G:/usgrids2020/for_join_data/\"\n",
    "    csvFile = os.path.join(csvPath, f\"{state[3:5]}_inputs.csv\")\n",
    "    print(f\"Obtaining data from {csvFile}\")\n",
    "    csvDict={}\n",
    "    #Convert the csv to dictionary\n",
    "    with open(csvFile,\"r\") as infile:\n",
    "        reader=csv.reader(infile)\n",
    "        i=0\n",
    "        for row in reader: \n",
    "            if i==0:\n",
    "                # the first row is the header\n",
    "                fields=row\n",
    "                i+=1\n",
    "            else:\n",
    "                csvDict[row[0]]=row\n",
    "    csvFields = fields\n",
    "    csvDict = csvDict\n",
    "    fcInMem = \"in_memory/fc_inmem\"\n",
    "    print(f\"Processing for {state[3:5]}\")\n",
    "    #Creating a feature in memory\n",
    "    arcpy.management.CopyFeatures(fc, fcInMem)\n",
    "    #Convert the csv to a table for joining\n",
    "    arcpy.conversion.TableToTable(csvFile, \"in_memory\", \"tableInMem\")\n",
    "    #Merge the feature with csv table file on GEOID20\n",
    "    for field in csvFields[1:]:\n",
    "        arcpy.management.AddFields(fcInMem, field)\n",
    "    out_path = f\"G:/usgrids2020/final_gdbs/usa{state[3:5]}.gdb/usa{state[3:5]}_joined\"\n",
    "    with arcpy.da.UpdateCursor(fcInMem, csvFields) as cursor:\n",
    "        for row in cursor:\n",
    "            #The first element in csvField (GEOID20) in feature class (fcInMem) will be the keys to retrieve data \n",
    "            #from csvDict\n",
    "            header = row[0]\n",
    "            if header in csvDict:\n",
    "                csvData = csvDict[header]\n",
    "                cursor.updateRow(csvData)\n",
    "    arcpy.management.CopyFeatures(fcInMem, out_path)\n",
    "    print(f\"Finished in {str(datetime.datetime.now() - readTime)}\")"
   ]
  },
  {
   "cell_type": "code",
   "execution_count": 44,
   "id": "46300a63",
   "metadata": {},
   "outputs": [
    {
     "data": {
      "text/plain": [
       "'usari.gdb'"
      ]
     },
     "execution_count": 44,
     "metadata": {},
     "output_type": "execute_result"
    }
   ],
   "source": [
    "gdb_list[40]"
   ]
  },
  {
   "cell_type": "code",
   "execution_count": null,
   "id": "0b94ad4b",
   "metadata": {},
   "outputs": [],
   "source": []
  }
 ],
 "metadata": {
  "kernelspec": {
   "display_name": "Python 3 (ipykernel)",
   "language": "python",
   "name": "python3"
  },
  "language_info": {
   "codemirror_mode": {
    "name": "ipython",
    "version": 3
   },
   "file_extension": ".py",
   "mimetype": "text/x-python",
   "name": "python",
   "nbconvert_exporter": "python",
   "pygments_lexer": "ipython3",
   "version": "3.9.18"
  }
 },
 "nbformat": 4,
 "nbformat_minor": 5
}
