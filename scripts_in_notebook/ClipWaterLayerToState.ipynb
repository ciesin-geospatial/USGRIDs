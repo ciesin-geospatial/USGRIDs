{
 "cells": [
  {
   "cell_type": "code",
   "execution_count": 1,
   "id": "c24b0e2a",
   "metadata": {},
   "outputs": [],
   "source": [
    "import arcpy \n",
    "import datetime\n",
    "import os\n",
    "import multiprocessing"
   ]
  },
  {
   "cell_type": "code",
   "execution_count": 8,
   "id": "5e4422b3",
   "metadata": {},
   "outputs": [
    {
     "name": "stdout",
     "output_type": "stream",
     "text": [
      "Processing for ak\n",
      "Script finished in 0:02:08.849153\n",
      "Processing for al\n",
      "Script finished in 0:02:46.283165\n",
      "Processing for ar\n",
      "Script finished in 0:02:28.641803\n",
      "Processing for az\n",
      "Script finished in 0:01:03.761390\n",
      "Processing for ca\n",
      "Script finished in 0:04:15.956343\n",
      "Processing for co\n",
      "Script finished in 0:01:18.926790\n",
      "Processing for ct\n",
      "Script finished in 0:00:22.969455\n",
      "Processing for dc\n",
      "Script finished in 0:00:05.250893\n",
      "Processing for de\n",
      "Script finished in 0:00:13.239778\n",
      "Processing for fl\n",
      "Script finished in 0:05:02.426686\n",
      "Processing for ga\n",
      "Script finished in 0:04:03.683064\n",
      "Processing for hi\n",
      "Script finished in 0:00:10.844028\n",
      "Processing for ia\n",
      "Script finished in 0:01:07.576588\n",
      "Processing for id\n",
      "Script finished in 0:01:28.748610\n",
      "Processing for il\n",
      "Script finished in 0:02:35.200174\n",
      "Processing for in\n",
      "Script finished in 0:01:37.720320\n",
      "Processing for ks\n",
      "Script finished in 0:02:34.030317\n",
      "Processing for ky\n",
      "Script finished in 0:04:26.760380\n",
      "Processing for la\n",
      "Script finished in 0:04:03.979489\n",
      "Processing for ma\n",
      "Script finished in 0:00:55.267151\n",
      "Processing for md\n",
      "Script finished in 0:01:33.013069\n",
      "Processing for me\n",
      "Script finished in 0:00:50.731280\n",
      "Processing for mi\n",
      "Script finished in 0:04:05.342119\n",
      "Processing for mn\n",
      "Script finished in 0:03:29.054805\n",
      "Processing for mo\n",
      "Script finished in 0:04:44.369676\n",
      "Processing for ms\n",
      "Script finished in 0:01:34.598358\n",
      "Processing for mt\n",
      "Script finished in 0:01:46.286650\n",
      "Processing for nc\n",
      "Script finished in 0:06:11.455973\n",
      "Processing for nd\n",
      "Script finished in 0:00:54.715303\n",
      "Processing for ne\n",
      "Script finished in 0:00:42.565365\n",
      "Processing for nh\n",
      "Script finished in 0:00:21.392014\n",
      "Processing for nj\n",
      "Script finished in 0:00:58.104983\n",
      "Processing for nm\n",
      "Script finished in 0:01:06.535851\n",
      "Processing for nv\n",
      "Script finished in 0:00:44.286239\n",
      "Processing for ny\n",
      "Script finished in 0:03:07.744816\n",
      "Processing for oh\n",
      "Script finished in 0:02:16.660754\n",
      "Processing for ok\n",
      "Script finished in 0:02:36.221786\n",
      "Processing for or\n",
      "Script finished in 0:03:51.781370\n",
      "Processing for pa\n",
      "Script finished in 0:03:54.064041\n",
      "Processing for pr\n",
      "Script finished in 0:00:12.233785\n",
      "Processing for ri\n",
      "Script finished in 0:00:18.353683\n",
      "Processing for sc\n",
      "Script finished in 0:02:05.540854\n",
      "Processing for sd\n",
      "Script finished in 0:00:40.608312\n",
      "Processing for tn\n",
      "Script finished in 0:02:30.524407\n",
      "Processing for tx\n",
      "Script finished in 0:11:31.023402\n",
      "Processing for ut\n",
      "Script finished in 0:00:40.656299\n",
      "Processing for va\n",
      "Script finished in 0:04:26.711154\n",
      "Processing for vt\n",
      "Script finished in 0:00:32.302443\n",
      "Processing for wa\n",
      "Script finished in 0:01:36.179347\n",
      "Processing for wi\n",
      "Script finished in 0:03:46.276435\n",
      "Processing for wv\n",
      "Script finished in 0:01:29.050466\n",
      "Processing for wy\n",
      "Script finished in 0:00:52.469093\n"
     ]
    }
   ],
   "source": [
    "shp_path = r\"G:/usgrids2020/shp/\"\n",
    "shp_list = os.listdir(shp_path)\n",
    "shp_list.sort()\n",
    "arcpy.env.workspace = r\"G:/usgrids2020/water_layer\"\n",
    "shp_state = [os.path.join(shp_path,state) for state in shp_list if state.split(\".\")[-1] == \"shp\"]\n",
    "for state in shp_state:\n",
    "    readTime = datetime.datetime.now()\n",
    "    state_code = os.path.basename(state)[:2]\n",
    "    print(f\"Processing for {state_code}\")\n",
    "    arcpy.analysis.Clip(\"G:/usgrids2020/water_layer/tiger2022_water.shp\", state, f\"G:/usgrids2020/final_gdbs/usa{state_code}.gdb/{state_code}_water_layer\")\n",
    "    print(f\"Script finished in {str(datetime.datetime.now() - readTime)}\")\n"
   ]
  },
  {
   "cell_type": "code",
   "execution_count": 5,
   "id": "e6617a19",
   "metadata": {},
   "outputs": [
    {
     "data": {
      "text/plain": [
       "'ak'"
      ]
     },
     "execution_count": 5,
     "metadata": {},
     "output_type": "execute_result"
    }
   ],
   "source": [
    "arcpy.env.workspace = \"G:/usgrids2020/test\"\n",
    "gdbs = arcpy.ListWorkspaces(\"*\", \"FILEGDB\")\n",
    "procList = [os.path.join(gdb,f\"{os.path.basename(gdb)[:-4]}_joined\") for gdb in gdbs]\n",
    "procList[0]"
   ]
  },
  {
   "cell_type": "code",
   "execution_count": null,
   "id": "7ef63765",
   "metadata": {},
   "outputs": [],
   "source": []
  }
 ],
 "metadata": {
  "kernelspec": {
   "display_name": "Python 3 (ipykernel)",
   "language": "python",
   "name": "python3"
  },
  "language_info": {
   "codemirror_mode": {
    "name": "ipython",
    "version": 3
   },
   "file_extension": ".py",
   "mimetype": "text/x-python",
   "name": "python",
   "nbconvert_exporter": "python",
   "pygments_lexer": "ipython3",
   "version": "3.9.18"
  }
 },
 "nbformat": 4,
 "nbformat_minor": 5
}
